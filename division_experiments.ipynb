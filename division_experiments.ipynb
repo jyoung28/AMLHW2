{
 "cells": [
  {
   "cell_type": "code",
   "execution_count": null,
   "id": "ec6f4589",
   "metadata": {},
   "outputs": [
    {
     "name": "stderr",
     "output_type": "stream",
     "text": [
      "/opt/miniconda3/envs/AML/lib/python3.13/site-packages/tqdm/auto.py:21: TqdmWarning: IProgress not found. Please update jupyter and ipywidgets. See https://ipywidgets.readthedocs.io/en/stable/user_install.html\n",
      "  from .autonotebook import tqdm as notebook_tqdm\n"
     ]
    },
    {
     "name": "stdout",
     "output_type": "stream",
     "text": [
      "4752\n"
     ]
    },
    {
     "name": "stderr",
     "output_type": "stream",
     "text": [
      "Asking to truncate to max_length but no maximum length is provided and the model has no predefined maximum length. Default to no truncation.\n"
     ]
    },
    {
     "name": "stdout",
     "output_type": "stream",
     "text": [
      "number of parameters: 45.72M\n",
      "12\n",
      "num decayed parameter tensors: 6, with 46,497,792 parameters\n",
      "num non-decayed parameter tensors: 10, with 11,520 parameters\n",
      "using fused AdamW: False\n",
      "Reached Max Optimizer Steps\n"
     ]
    }
   ],
   "source": [
    "import torch\n",
    "from train import trainGPT, SanityConfig\n",
    "from dataclasses import dataclass\n",
    "from transformers import AutoTokenizer\n",
    "from data_gen import gen_grok_data\n",
    "\n",
    "config = SanityConfig()\n",
    "tokenizer = AutoTokenizer.from_pretrained('google/byt5-base')\n",
    "\n",
    "tokenizer.pad_token = tokenizer.eos_token \n",
    "train, test = gen_grok_data([97],train_split=0.50, a=False, s=False, d=True) # 0.50 like the paper\n",
    "print(len(train))\n",
    "\n",
    "device = 'cuda' if torch.cuda.is_available() else 'cpu'\n",
    "model = trainGPT(config, tokenizer, train, test, device=device, max_steps=1e5)"
   ]
  }
 ],
 "metadata": {
  "kernelspec": {
   "display_name": "AML",
   "language": "python",
   "name": "python3"
  },
  "language_info": {
   "codemirror_mode": {
    "name": "ipython",
    "version": 3
   },
   "file_extension": ".py",
   "mimetype": "text/x-python",
   "name": "python",
   "nbconvert_exporter": "python",
   "pygments_lexer": "ipython3",
   "version": "3.13.2"
  }
 },
 "nbformat": 4,
 "nbformat_minor": 5
}
